{
  "nbformat": 4,
  "nbformat_minor": 0,
  "metadata": {
    "colab": {
      "name": "Aula 1 - Imersão CDP",
      "provenance": [],
      "collapsed_sections": []
    },
    "kernelspec": {
      "name": "python3",
      "display_name": "Python 3"
    },
    "language_info": {
      "name": "python"
    }
  },
  "cells": [
    {
      "cell_type": "markdown",
      "source": [
        "![](https://cienciadosdados.com/images/2022/08/capaime.png)"
      ],
      "metadata": {
        "id": "EDt01LUwkJK5"
      }
    },
    {
      "cell_type": "markdown",
      "source": [
        "# Eduardo, Como Você Conheceu Essa Parada?"
      ],
      "metadata": {
        "id": "3e4f3yCXcJGG"
      }
    },
    {
      "cell_type": "markdown",
      "source": [
        "![](https://cienciadosdados.com/images/2022/07/crach.png)"
      ],
      "metadata": {
        "id": "i7sJ1h3vcWN8"
      }
    },
    {
      "cell_type": "markdown",
      "source": [
        "![](https://www.infoescola.com/wp-content/uploads/2019/03/crise-2008-19061461.jpg)\n"
      ],
      "metadata": {
        "id": "UP76SEfycY6c"
      }
    },
    {
      "cell_type": "markdown",
      "source": [
        "![](https://www.suno.com.br/wp-content/uploads/2018/07/crise-do-subprime-2.jpg)"
      ],
      "metadata": {
        "id": "kU8tQh6xc4if"
      }
    },
    {
      "cell_type": "markdown",
      "source": [
        "![](https://s2.glbimg.com/JQaeHzDGuT31onb1n4tQou6VHi4=/620x350/e.glbimg.com/og/ed/f/original/2012/04/06/crise.jpg)\n",
        "\n",
        "bolsas caem, empresas perdem valor de mercado, dívidas aumentam, calotes aumentam e bancos quebram"
      ],
      "metadata": {
        "id": "5bzdrQLZdDtC"
      }
    },
    {
      "cell_type": "markdown",
      "source": [
        "![](https://www.aryramos.pro.br/wp-content/uploads/2018/09/Brothers.jpg)\n",
        "![](https://www.jornalcontabil.com.br/wp-content/uploads/2019/09/operadora.jpeg)"
      ],
      "metadata": {
        "id": "4Vmd7WTLdWqa"
      }
    },
    {
      "cell_type": "markdown",
      "source": [
        "#Medidas para Evitar quebradeira no Mercado Financeiro"
      ],
      "metadata": {
        "id": "9kYcRmKjdabR"
      }
    },
    {
      "cell_type": "markdown",
      "source": [
        "![](https://pbs.twimg.com/media/E4ZP4hkWEAM_lJF.jpg)"
      ],
      "metadata": {
        "id": "EKeoqQRwd43U"
      }
    },
    {
      "cell_type": "markdown",
      "source": [
        "# BIS ou Banco de Basileia é tipo um Banco Central dos Bancos Centrais"
      ],
      "metadata": {
        "id": "Zb1mXYErd46F"
      }
    },
    {
      "cell_type": "markdown",
      "source": [
        "\"... manutenção da **estabilidade monetária e financeira** e fomentar a cooperação internacional nessas áreas de interesse\""
      ],
      "metadata": {
        "id": "r4sP0j0kd49J"
      }
    },
    {
      "cell_type": "markdown",
      "source": [
        "# Forma de Emprestar dinheiro deveria mudar\n",
        "\n",
        "![](https://www.aier.org/wp-content/uploads/2018/10/blowingupdollars.jpg)\n",
        "\n",
        "![]()"
      ],
      "metadata": {
        "id": "PeilBEmCd5DM"
      }
    },
    {
      "cell_type": "markdown",
      "source": [
        "# Deveria-se **Prever** Inadimplência (default/descumprimento/calote) **com mais Assertividade**"
      ],
      "metadata": {
        "id": "VzEhQMtcd5F5"
      }
    },
    {
      "cell_type": "markdown",
      "source": [
        "![](https://www.siacorp.com.br/images/cobrancabaseadaemrisco.png)"
      ],
      "metadata": {
        "id": "evl51A7ud5Iz"
      }
    },
    {
      "cell_type": "markdown",
      "source": [
        "# Daí, O que era assim ...\n",
        "![](https://cienciadosdados.com/images/2022/07/modelagem_old.png)"
      ],
      "metadata": {
        "id": "fMneWZD3d5LK"
      }
    },
    {
      "cell_type": "markdown",
      "source": [
        "# ...ficou assim\n",
        "\n",
        "![](https://media-exp1.licdn.com/dms/image/C4E12AQFrlPVsX70S5w/article-inline_image-shrink_1500_2232/0/1561322901694?e=1660176000&v=beta&t=7EjZ-dDlxnd6_b9XiIPYS4ZcMYiordNHCE8MQ8jfmSY)"
      ],
      "metadata": {
        "id": "lrBgbW8fd5Nx"
      }
    },
    {
      "cell_type": "markdown",
      "source": [
        "![](https://tm.ibxk.com.br/2015/03/31/31105941395206.jpg?ims=1120x420)"
      ],
      "metadata": {
        "id": "WiNK5ulQd5QM"
      }
    },
    {
      "cell_type": "markdown",
      "source": [
        "# Talvez eu Seja um pouco como Você...."
      ],
      "metadata": {
        "id": "LegUote-d5S8"
      }
    },
    {
      "cell_type": "markdown",
      "source": [
        "...eu só queria ter um salário bom"
      ],
      "metadata": {
        "id": "fLd4SPuZd5Vr"
      }
    },
    {
      "cell_type": "markdown",
      "source": [
        "...ser valorizado na empresa"
      ],
      "metadata": {
        "id": "qt2vovG8d5bW"
      }
    },
    {
      "cell_type": "markdown",
      "source": [
        "...ser reconhecido no trabalho\n"
      ],
      "metadata": {
        "id": "zY9aaVpGd5Yc"
      }
    },
    {
      "cell_type": "markdown",
      "source": [
        "...poder comprar umas coisinhas"
      ],
      "metadata": {
        "id": "HeN4bN9zd5dk"
      }
    },
    {
      "cell_type": "markdown",
      "source": [
        "...poder viajar"
      ],
      "metadata": {
        "id": "tHKE4inWd5gQ"
      }
    },
    {
      "cell_type": "markdown",
      "source": [
        "# é aí que entra a tal de Basiléia...."
      ],
      "metadata": {
        "id": "c7dOK_v-d5le"
      }
    },
    {
      "cell_type": "markdown",
      "source": [
        "## O BB criou um Projeto de nome Basileia cujo objetivo era exatamente **construir** essa parada toda aí que ia Proteger o BB da Quebradeira\n",
        "\n",
        "![](https://www.infomoney.com.br/wp-content/uploads/2019/09/banco-do-brasil-1.jpg?resize=770%2C515&quality=50&strip=all)"
      ],
      "metadata": {
        "id": "EO1Wzz0kd5oG"
      }
    },
    {
      "cell_type": "markdown",
      "source": [
        "# ...iam precisar de muitos profissionais que soubessem trabalhar com \"DADOS\" "
      ],
      "metadata": {
        "id": "iJqtWuE9d5tm"
      }
    },
    {
      "cell_type": "markdown",
      "source": [
        "- Sou **Economista** Especialista em Finanças"
      ],
      "metadata": {
        "id": "GnuQIDxUd5qs"
      }
    },
    {
      "cell_type": "markdown",
      "source": [
        "# Eu sentia muita dificuldade no início....\n",
        "\n",
        "![](https://1.bp.blogspot.com/-178A5FgoaUk/V_JZzAaEC-I/AAAAAAAAJiU/tsfcSdgHIOELESKjhh10wonLF8nJSA5VACEw/s1600/disciplina-para-estudar-capa2.png)"
      ],
      "metadata": {
        "id": "i-tMOiIcd5vl"
      }
    },
    {
      "cell_type": "markdown",
      "source": [
        "- conteúdo era denso\n",
        "- material sem detalhamento\n",
        "- problema de negócio não estava claro nem para os reguladores\n",
        "- não tinha material suficiente em portugues\n",
        "- não tinha quem pegasse na minha mão\n",
        "- não existia um passo a passo claro"
      ],
      "metadata": {
        "id": "qpyjutnOd5yL"
      }
    },
    {
      "cell_type": "markdown",
      "source": [
        "# Cheguei a chorar \n",
        "\n",
        "![](https://st2.depositphotos.com/1868027/7294/i/600/depositphotos_72940459-stock-photo-depressed-crying-man.jpg)\n",
        "# Ficar sem dormir\n",
        "![](https://guiadafarmacia.com.br/wp-content/uploads/2019/09/shutterstock_1419779672.jpg)"
      ],
      "metadata": {
        "id": "F5M0oDyAd50t"
      }
    },
    {
      "cell_type": "markdown",
      "source": [
        "# Mas, não adiantava se lamentar, eu precisava descobrir uma forma de passar por essa parada....eu não iria desistir....\n",
        "![](https://hashtagcuritiba.com/wp-content/uploads/2016/08/MM-NP-03.jpg)"
      ],
      "metadata": {
        "id": "RzLZ0MUwqn_W"
      }
    },
    {
      "cell_type": "markdown",
      "source": [
        "![](https://2s7gjr373w3x22jf92z99mgm5w-wpengine.netdna-ssl.com/wp-content/uploads/2019/03/sas_logo_shutterstock_Casimiro-PT.jpg)"
      ],
      "metadata": {
        "id": "T45-L3oTqoC_"
      }
    },
    {
      "cell_type": "markdown",
      "source": [
        "# Consegui Perceber uma parada que era o seguinte..."
      ],
      "metadata": {
        "id": "E23w4tC6Hd5h"
      }
    },
    {
      "cell_type": "markdown",
      "source": [
        "# 80% do que precisava ser desenvolvido, era feito com **1** ferramenta: o **SAS**"
      ],
      "metadata": {
        "id": "uwXExRJoqoFi"
      }
    },
    {
      "cell_type": "markdown",
      "source": [
        "- Conexão com os DADOS\n",
        "- Análise e Processamento de Dados\n",
        "\n"
      ],
      "metadata": {
        "id": "nh-8t28VumKQ"
      }
    },
    {
      "cell_type": "markdown",
      "source": [
        "# Logo, pensei: Vamos por partes...."
      ],
      "metadata": {
        "id": "eXa4ScDlqoIY"
      }
    },
    {
      "cell_type": "markdown",
      "source": [
        "![](https://sd.keepcalms.com/i/keep-calm-and-vamos-por-partes.png)"
      ],
      "metadata": {
        "id": "9tPpid2mqoK0"
      }
    },
    {
      "cell_type": "markdown",
      "source": [
        "# Se com uma ferramenta, fazemos 80% do trabalho......\n",
        "![](https://www.designi.com.br/images/preview/10138822.jpg)"
      ],
      "metadata": {
        "id": "ffwozzS-qoNn"
      }
    },
    {
      "cell_type": "markdown",
      "source": [
        "# ... logo vou aprender a usar esta ferramenta."
      ],
      "metadata": {
        "id": "kW46fucDMjno"
      }
    },
    {
      "cell_type": "markdown",
      "source": [
        "# Mas a vida , é uma caixinha de surpresa!\n",
        "![](https://cienciadosdados.com/images/2022/07/jc.png)"
      ],
      "metadata": {
        "id": "bUsUemmTMnej"
      }
    },
    {
      "cell_type": "markdown",
      "source": [
        "#....eu não sabia de uma coisa: \n",
        "\n",
        " ## O SAS era ao mesmo tempo...\n",
        "\n",
        " > Linguagem de Programação\n",
        "\n",
        " > Uma Empresa de Software\n",
        "\n",
        " > Uma coletanea de ferramentas"
      ],
      "metadata": {
        "id": "GaUTcNU4qoQR"
      }
    },
    {
      "cell_type": "markdown",
      "source": [
        "![](https://cienciadosdados.com/images/2022/07/sasemp.png)"
      ],
      "metadata": {
        "id": "1suX7A2PqoTC"
      }
    },
    {
      "cell_type": "markdown",
      "source": [
        "# Meu planejamento estava indo por água abaixo...Quando percebi uma parada..."
      ],
      "metadata": {
        "id": "r24sxdi8qoVw"
      }
    },
    {
      "cell_type": "markdown",
      "source": [
        ">### <font color = blue> Naquele momento, eu não precisava aprender todas as ferramentas,  mas sim deveria focar na **ferramenta** responsável pelo 80/20 da parada....."
      ],
      "metadata": {
        "id": "eq5D2FeoNxa2"
      }
    },
    {
      "cell_type": "markdown",
      "source": [
        "## E a Ferramenta era o tal do\n",
        "\n",
        "![](https://cienciadosdados.com/images/2022/07/saseg.png)"
      ],
      "metadata": {
        "id": "Jv4l7fSdqoYy"
      }
    },
    {
      "cell_type": "markdown",
      "source": [
        "# Então estava resolvido. Só precisava aprender a usar a ferramenta..... "
      ],
      "metadata": {
        "id": "X-B7EZDYqobq"
      }
    },
    {
      "cell_type": "markdown",
      "source": [
        "# Daí para a frente..."
      ],
      "metadata": {
        "id": "C4l5Ec46opjY"
      }
    },
    {
      "cell_type": "markdown",
      "source": [
        "![](https://3.bp.blogspot.com/-fci4-lfU_VU/WIOQV7LPKxI/AAAAAAAAETk/yh_Rh1sCO1ExY2TSrl2Mn7bvL1RtdoDvgCLcB/s1600/10anos.jpg)"
      ],
      "metadata": {
        "id": "EGENlRXfqWrB"
      }
    },
    {
      "cell_type": "markdown",
      "source": [
        "![](https://classic.exame.com/wp-content/uploads/2020/12/Deloitte.jpg?quality=70&strip=info&w=1024)\n",
        "\n",
        "![](https://cdn.jornaldebrasilia.com.br/wp-content/uploads/2020/08/kpmg.jpg)\n",
        "\n",
        "![](https://okdiario.com/img/2021/09/24/pwc-655x368.jpg)"
      ],
      "metadata": {
        "id": "V4wNh2Yd3UIt"
      }
    },
    {
      "cell_type": "markdown",
      "source": [
        "# ... Foram ao Todo 16 anos no BB e **10 anos na Controles Internos**... onde saí da área de desenvolvimento e fui promovido para área de **Avaliação/Validação** de Todo o processo de Construção até a Implementação de Máquinas Preditivas. "
      ],
      "metadata": {
        "id": "MFs-D1WkqM6I"
      }
    },
    {
      "cell_type": "markdown",
      "source": [
        "# Depois de estar ombro a ombro com os melhores do Brasil e do mundo, percebi o que funcionava e o que não funcionava e desenvolvi o que chamo de Metodologia Babysteps.\n",
        "![](https://cienciadosdados.com/images/2022/08/noah.png)"
      ],
      "metadata": {
        "id": "5UojxYP64NGx"
      }
    },
    {
      "cell_type": "markdown",
      "source": [
        "# <font color = Gray> Com você, O Babysteps"
      ],
      "metadata": {
        "id": "R2k-3RHh5j4M"
      }
    },
    {
      "cell_type": "markdown",
      "source": [
        "## <font color=blue> Agora, quero trazer você para fazer um grande Projeto numa Grande Instituição"
      ],
      "metadata": {
        "id": "trooeGtKrkLX"
      }
    },
    {
      "cell_type": "markdown",
      "source": [
        "# ![](https://f.i.uol.com.br/fotografia/2022/03/20/1647809707623794abce592_1647809707_3x2_md.jpg)\n",
        "\n",
        "\n"
      ],
      "metadata": {
        "id": "oV_Y95jT3Q2k"
      }
    },
    {
      "cell_type": "markdown",
      "metadata": {
        "id": "g9sJq55pdYf3"
      },
      "source": [
        "![](https://cienciadosdados.com/images/2022/05/pipeline.png)\n",
        "[](https://cienciadosdados.com/images/2021/Design_sem_nome_10.png)"
      ]
    },
    {
      "cell_type": "markdown",
      "source": [
        "# 1° Entendimento do Problema de Negócio"
      ],
      "metadata": {
        "id": "OKSyTFRzzQJV"
      }
    },
    {
      "cell_type": "markdown",
      "source": [
        "A primeira coisa que vou fazer é te mostrar porque um Cientista de Dados que **aprende a resolver problemas** de negocio é valorizado. \n",
        "\n",
        "A sacada é que, o processo de resolução de problemas, **serve para todos os problemas de negócio**. "
      ],
      "metadata": {
        "id": "dNyEjmrC4rz8"
      }
    },
    {
      "cell_type": "markdown",
      "source": [
        "## <font color=Grey>Previsão de Preço de Laptop\n",
        "\n",
        "**Objetivo**: Seu objetivo, como Cientista de Dados da Amazon, é Desenvolver um Sistema que possa prever um preço provisório de um laptop, com base na configuração desejada pelo usuário. Isso servirá como um Balisador para definição de quais configurações devem ser priorizadas na escolha do Laptop por parte do Cliente."
      ],
      "metadata": {
        "id": "dYX1-26wzRty"
      }
    },
    {
      "cell_type": "markdown",
      "source": [
        "\n",
        "> Processo de requisitos iniciais com especialistas no negócio.\n",
        "\n"
      ],
      "metadata": {
        "id": "ubUpzUTGt4Bx"
      }
    },
    {
      "cell_type": "markdown",
      "source": [
        "![](https://www.ateomomento.com.br/wp-content/uploads/2019/12/carreira-agilidade-scrum-master-product-onwer-e1575852028416.jpg)"
      ],
      "metadata": {
        "id": "y2Sjv1JxuRon"
      }
    },
    {
      "cell_type": "markdown",
      "source": [
        "\n",
        "> Perguntas que se respondidas dão o norte do que é importante para o negócio \n",
        "\n",
        "\n"
      ],
      "metadata": {
        "id": "Gpd6HN-qt4KW"
      }
    },
    {
      "cell_type": "markdown",
      "source": [
        "![](https://www.planest.com.br/wp-content/uploads/2021/07/metodo-5W2H.jpg)"
      ],
      "metadata": {
        "id": "pAuMET7g1cQ5"
      }
    },
    {
      "cell_type": "markdown",
      "source": [
        "\n",
        "> Mindmap com possíveis variáveis que resolvem o problema."
      ],
      "metadata": {
        "id": "Ghm7uWq7t4Ox"
      }
    },
    {
      "cell_type": "markdown",
      "source": [
        "![](https://cienciadosdados.com/images/2022/08/mm.png)\n",
        "https://www.mindmeister.com/map/2377551040"
      ],
      "metadata": {
        "id": "0e7Z36AcOsp4"
      }
    },
    {
      "cell_type": "markdown",
      "source": [
        "# 2° Analise Exploratória dos Dados\n"
      ],
      "metadata": {
        "id": "eGILw3J-UuSh"
      }
    },
    {
      "cell_type": "markdown",
      "source": [
        "![](https://cienciadosdados.com/images/2022/08/dd.png)"
      ],
      "metadata": {
        "id": "Rd_2WfUft4Rr"
      }
    },
    {
      "cell_type": "code",
      "source": [
        "#Importação de Bibliotecas\n",
        "import pandas as pd\n",
        "import numpy as np\n",
        "from sklearn.model_selection import train_test_split\n",
        "from sklearn.compose import ColumnTransformer\n",
        "from sklearn.pipeline import Pipeline\n",
        "from sklearn.preprocessing import OneHotEncoder\n",
        "from sklearn.metrics import r2_score,mean_absolute_error\n",
        "from sklearn.ensemble import RandomForestRegressor\n",
        "from xgboost import XGBRegressor"
      ],
      "metadata": {
        "id": "qjivfixcZmQk"
      },
      "execution_count": null,
      "outputs": []
    },
    {
      "cell_type": "code",
      "metadata": {
        "id": "SYH_vHz8kSwW"
      },
      "source": [
        "#Instalação do Pacote de Relatorório Automatizado para Análise de Dados \n",
        "!pip install dataprep"
      ],
      "execution_count": null,
      "outputs": []
    },
    {
      "cell_type": "code",
      "metadata": {
        "id": "_CSTTeaYkePK"
      },
      "source": [
        "# Conectando com os Dados\n",
        "import pandas as pd\n",
        "df = pd.read_csv('data.csv', delimiter=';')\n",
        "df"
      ],
      "execution_count": null,
      "outputs": []
    },
    {
      "cell_type": "code",
      "metadata": {
        "id": "FJZOc0aXqybr"
      },
      "source": [
        "# Relatório Automatizado\n",
        "from dataprep.eda import create_report\n",
        "create_report(df)"
      ],
      "execution_count": null,
      "outputs": []
    },
    {
      "cell_type": "markdown",
      "source": [
        "#  E na Aula 2 ....elas...as Máquinas Preditivas"
      ],
      "metadata": {
        "id": "7It89HJNY2wj"
      }
    },
    {
      "cell_type": "markdown",
      "source": [
        "![](https://cdn-images-1.medium.com/max/800/1*CNtG5bWFJy9l9ZghCN8R5g.gif)"
      ],
      "metadata": {
        "id": "GGcNh9E7Y-QS"
      }
    },
    {
      "cell_type": "markdown",
      "source": [
        "![](https://cienciadosdados.com/images/2022/08/rs.png)"
      ],
      "metadata": {
        "id": "99KHiLJPZiBw"
      }
    },
    {
      "cell_type": "markdown",
      "source": [
        "https://cienciadosdados.com/index.php/redes-sociais"
      ],
      "metadata": {
        "id": "5S4lYpISZnU3"
      }
    },
    {
      "cell_type": "markdown",
      "source": [
        "![](https://cienciadosdados.com/images/2022/08/cm2.png)"
      ],
      "metadata": {
        "id": "yujcOf6clnJG"
      }
    },
    {
      "cell_type": "markdown",
      "source": [
        "![](https://cienciadosdados.com/images/2022/08/cm.png)\n",
        "\n",
        "\n",
        "\n"
      ],
      "metadata": {
        "id": "olC-8wMW3Q8b"
      }
    },
    {
      "cell_type": "markdown",
      "source": [
        "### Acompanhe o que estão achando dos Eventos...\n",
        "\n",
        "![](https://www.falandoti.com/wp-content/uploads/2015/05/Politica-comentarios.jpg)"
      ],
      "metadata": {
        "id": "ejwbEPzoq71g"
      }
    },
    {
      "cell_type": "markdown",
      "source": [
        "![](https://cienciadosdados.com/images/2022/08/pv1.png)"
      ],
      "metadata": {
        "id": "fghWAv9Sdzqs"
      }
    },
    {
      "cell_type": "markdown",
      "source": [
        "![](https://cienciadosdados.com/images/2022/08/pv2.png)"
      ],
      "metadata": {
        "id": "cRfVbaqPeIGJ"
      }
    }
  ]
}